{
 "cells": [
  {
   "cell_type": "markdown",
   "id": "597308ee",
   "metadata": {},
   "source": [
    "## Cálculo  Secuencia de Niño Gauss ##\n",
    "<pre>\n",
    "Orden que presenta el prof. Javier\n",
    "1) presentacion de la evaluacion de con las metricas\n",
    "\n",
    "2) Con base a la presentacion del Prof. Javier, le agregó Excel y le podrias adecuar  python para los que quieren utilzar la ultima  tecnologia en sus clases.Python o Julia.\n",
    "\n",
    "\n",
    "</pre>\n",
    "\n",
    "## En la parte que se refiere al uso de Python , puede ser un poco rapida la curva de aprendizaje ##\n",
    "\n",
    "<pre>\n",
    "Falta la combinación de muchos  conceptos, pero los basicos serían los siguientes\n",
    "1.- Manejo de archivos,hacer instalaciones de software, decarga de programas,manejo de carpetas,manejo de archivos de texto, html, xlsx.\n",
    "\n",
    "</pre> "
   ]
  },
  {
   "cell_type": "code",
   "execution_count": 1,
   "id": "20ea9a1f",
   "metadata": {},
   "outputs": [
    {
     "data": {
      "text/plain": [
       "11"
      ]
     },
     "execution_count": 1,
     "metadata": {},
     "output_type": "execute_result"
    }
   ],
   "source": [
    "5+6\n"
   ]
  },
  {
   "cell_type": "code",
   "execution_count": 2,
   "id": "7b8cc875",
   "metadata": {},
   "outputs": [],
   "source": [
    "a=4\n",
    "b=5"
   ]
  },
  {
   "cell_type": "code",
   "execution_count": 3,
   "id": "8a242b45",
   "metadata": {},
   "outputs": [
    {
     "data": {
      "text/plain": [
       "9"
      ]
     },
     "execution_count": 3,
     "metadata": {},
     "output_type": "execute_result"
    }
   ],
   "source": [
    "a+b"
   ]
  },
  {
   "cell_type": "code",
   "execution_count": 4,
   "id": "1e8ec5fc",
   "metadata": {},
   "outputs": [
    {
     "data": {
      "text/plain": [
       "False"
      ]
     },
     "execution_count": 4,
     "metadata": {},
     "output_type": "execute_result"
    }
   ],
   "source": [
    "a>b"
   ]
  },
  {
   "cell_type": "code",
   "execution_count": 5,
   "id": "87d29a1b",
   "metadata": {},
   "outputs": [
    {
     "data": {
      "text/plain": [
       "True"
      ]
     },
     "execution_count": 5,
     "metadata": {},
     "output_type": "execute_result"
    }
   ],
   "source": [
    "a<b"
   ]
  },
  {
   "cell_type": "code",
   "execution_count": 6,
   "id": "1763d6ff",
   "metadata": {},
   "outputs": [],
   "source": [
    "def cuadrado(x):\n",
    "    resultado =x*x\n",
    "    return (resultado)"
   ]
  },
  {
   "cell_type": "code",
   "execution_count": 7,
   "id": "c89dc37e",
   "metadata": {},
   "outputs": [
    {
     "data": {
      "text/plain": [
       "9"
      ]
     },
     "execution_count": 7,
     "metadata": {},
     "output_type": "execute_result"
    }
   ],
   "source": [
    "cuadrado(3)"
   ]
  },
  {
   "cell_type": "markdown",
   "id": "17045203",
   "metadata": {},
   "source": [
    "## input es para ingresar valores numericos desde el teclado ##"
   ]
  },
  {
   "cell_type": "code",
   "execution_count": 6,
   "id": "42316cbf",
   "metadata": {},
   "outputs": [
    {
     "name": "stdout",
     "output_type": "stream",
     "text": [
      "dame un valor6\n"
     ]
    }
   ],
   "source": [
    "c=int(input(\"dame un valor\"))"
   ]
  },
  {
   "cell_type": "code",
   "execution_count": 9,
   "id": "0ce7b4d1",
   "metadata": {},
   "outputs": [
    {
     "data": {
      "text/plain": [
       "900"
      ]
     },
     "execution_count": 9,
     "metadata": {},
     "output_type": "execute_result"
    }
   ],
   "source": [
    "9*c"
   ]
  },
  {
   "cell_type": "code",
   "execution_count": 10,
   "id": "866616a1",
   "metadata": {},
   "outputs": [
    {
     "name": "stdout",
     "output_type": "stream",
     "text": [
      "ingrese el valor de (a):\n",
      "1\n",
      "ingrese el valor de (b):\n",
      "2\n",
      "ingrese el valor de (c):\n",
      "1\n",
      "x1=  -1.0\n",
      "x2=  -1.0\n"
     ]
    },
    {
     "data": {
      "image/png": "[encoded data removed]",
      "text/plain": [
       "<Figure size 640x480 with 1 Axes>"
      ]
     },
     "metadata": {},
     "output_type": "display_data"
    }
   ],
   "source": [
    " \n",
    "import math as m\n",
    "import numpy as np\n",
    "from matplotlib import pyplot\n",
    "\n",
    "a=float(input(\"ingrese el valor de (a):\\n\"))\n",
    "b=float(input(\"ingrese el valor de (b):\\n\"))\n",
    "c=float(input(\"ingrese el valor de (c):\\n\"))\n",
    "\n",
    "disc=(b**2)-(4*a*c)\n",
    "raiz=(disc)**(0.5)\n",
    "\n",
    "if(disc>0):\n",
    "    x1=((-b)+raiz)/(2*a)\n",
    "    x2=((-b)-raiz)/(2*a)\n",
    "    print(\"x1= \",x1)\n",
    "    print(\"x2= \",x2)\n",
    "\n",
    "elif(disc==0):\n",
    "    x1=((-b)+raiz)/(2*a)\n",
    "    x2=((-b)-raiz)/(2*a)\n",
    "    print(\"x1= \",x1)\n",
    "    print(\"x2= \",x2)\n",
    "else:\n",
    "    print(\"Solucion imaginaria\")\n",
    "\n",
    "def f(x):\n",
    "    return a*(x**2)+b*x+c\n",
    "\n",
    "x = np.linspace(-100,50+np.pi,100)\n",
    "\n",
    "pyplot.plot(x,[f(i)for i in x])\n",
    "\n",
    "pyplot.axhline(0, color= \"black\")\n",
    "pyplot.axvline(0, color= \"black\")\n",
    "\n",
    "pyplot.xlim(-50,50)\n",
    "pyplot.ylim(-50,50)\n",
    "\n",
    "pyplot.savefig(\"output.png\")\n",
    "pyplot.show()"
   ]
  },
  {
   "cell_type": "code",
   "execution_count": 12,
   "id": "ff4f2445",
   "metadata": {},
   "outputs": [
    {
     "name": "stdout",
     "output_type": "stream",
     "text": [
      "1, 2, 3, 4, "
     ]
    }
   ],
   "source": [
    "for i in [1, 2, 3, 4]:\n",
    "    print(i, end=\", \") # prints: 1, 2, 3, 4,"
   ]
  },
  {
   "cell_type": "code",
   "execution_count": 1,
   "id": "67506bb5",
   "metadata": {},
   "outputs": [],
   "source": [
    "#for x in range(10):\n",
    "     \n",
    "    #    print(x,\"hola\")\n",
    "        "
   ]
  },
  {
   "cell_type": "markdown",
   "id": "1be64f25",
   "metadata": {},
   "source": [
    "## Empieza con for ##\n",
    "<pre>\n",
    "En los en el indice de los ciclos en pytho empieza con 1 por eso es que termina en vez de 100, termina en 101\n",
    "</pre>"
   ]
  },
  {
   "cell_type": "code",
   "execution_count": 21,
   "id": "0079563c",
   "metadata": {},
   "outputs": [
    {
     "name": "stdout",
     "output_type": "stream",
     "text": [
      "5050\n"
     ]
    }
   ],
   "source": [
    "d=0\n",
    "\n",
    "for x in range(101):\n",
    "     d=x+d\n",
    "  \n",
    "print(d)"
   ]
  },
  {
   "cell_type": "code",
   "execution_count": null,
   "id": "8128db58",
   "metadata": {},
   "outputs": [],
   "source": [
    "d=0\n",
    "\n",
    "for x in range(101):\n",
    "     d=x+d\n",
    "  \n",
    "print(d)"
   ]
  },
  {
   "cell_type": "code",
   "execution_count": 5,
   "id": "1bddc2ef",
   "metadata": {},
   "outputs": [
    {
     "name": "stdout",
     "output_type": "stream",
     "text": [
      "y 0 =  0 + 0\n",
      "y 1 =  1 + 1\n",
      "y 2 =  2 + 3\n",
      "y 3 =  3 + 6\n",
      "y 4 =  4 + 10\n",
      "y 5 =  5 + 15\n",
      "y 6 =  6 + 21\n",
      "y 7 =  7 + 28\n",
      "y 8 =  8 + 36\n",
      "y 9 =  9 + 45\n",
      "y 10 =  10 + 55\n",
      "y 11 =  11 + 66\n",
      "y 12 =  12 + 78\n",
      "y 13 =  13 + 91\n",
      "y 14 =  14 + 105\n",
      "y 15 =  15 + 120\n",
      "y 16 =  16 + 136\n",
      "y 17 =  17 + 153\n",
      "y 18 =  18 + 171\n",
      "y 19 =  19 + 190\n",
      "y 20 =  20 + 210\n",
      "y 21 =  21 + 231\n",
      "y 22 =  22 + 253\n",
      "y 23 =  23 + 276\n",
      "y 24 =  24 + 300\n",
      "y 25 =  25 + 325\n",
      "y 26 =  26 + 351\n",
      "y 27 =  27 + 378\n",
      "y 28 =  28 + 406\n",
      "y 29 =  29 + 435\n",
      "y 30 =  30 + 465\n",
      "y 31 =  31 + 496\n",
      "y 32 =  32 + 528\n",
      "y 33 =  33 + 561\n",
      "y 34 =  34 + 595\n",
      "y 35 =  35 + 630\n",
      "y 36 =  36 + 666\n",
      "y 37 =  37 + 703\n",
      "y 38 =  38 + 741\n",
      "y 39 =  39 + 780\n",
      "y 40 =  40 + 820\n",
      "y 41 =  41 + 861\n",
      "y 42 =  42 + 903\n",
      "y 43 =  43 + 946\n",
      "y 44 =  44 + 990\n",
      "y 45 =  45 + 1035\n",
      "y 46 =  46 + 1081\n",
      "y 47 =  47 + 1128\n",
      "y 48 =  48 + 1176\n",
      "y 49 =  49 + 1225\n",
      "y 50 =  50 + 1275\n",
      "y 51 =  51 + 1326\n",
      "y 52 =  52 + 1378\n",
      "y 53 =  53 + 1431\n",
      "y 54 =  54 + 1485\n",
      "y 55 =  55 + 1540\n",
      "y 56 =  56 + 1596\n",
      "y 57 =  57 + 1653\n",
      "y 58 =  58 + 1711\n",
      "y 59 =  59 + 1770\n",
      "y 60 =  60 + 1830\n",
      "y 61 =  61 + 1891\n",
      "y 62 =  62 + 1953\n",
      "y 63 =  63 + 2016\n",
      "y 64 =  64 + 2080\n",
      "y 65 =  65 + 2145\n",
      "y 66 =  66 + 2211\n",
      "y 67 =  67 + 2278\n",
      "y 68 =  68 + 2346\n",
      "y 69 =  69 + 2415\n",
      "y 70 =  70 + 2485\n",
      "y 71 =  71 + 2556\n",
      "y 72 =  72 + 2628\n",
      "y 73 =  73 + 2701\n",
      "y 74 =  74 + 2775\n",
      "y 75 =  75 + 2850\n",
      "y 76 =  76 + 2926\n",
      "y 77 =  77 + 3003\n",
      "y 78 =  78 + 3081\n",
      "y 79 =  79 + 3160\n",
      "y 80 =  80 + 3240\n",
      "y 81 =  81 + 3321\n",
      "y 82 =  82 + 3403\n",
      "y 83 =  83 + 3486\n",
      "y 84 =  84 + 3570\n",
      "y 85 =  85 + 3655\n",
      "y 86 =  86 + 3741\n",
      "y 87 =  87 + 3828\n",
      "y 88 =  88 + 3916\n",
      "y 89 =  89 + 4005\n",
      "y 90 =  90 + 4095\n",
      "y 91 =  91 + 4186\n",
      "y 92 =  92 + 4278\n",
      "y 93 =  93 + 4371\n",
      "y 94 =  94 + 4465\n",
      "y 95 =  95 + 4560\n",
      "y 96 =  96 + 4656\n",
      "y 97 =  97 + 4753\n",
      "y 98 =  98 + 4851\n",
      "y 99 =  99 + 4950\n",
      "y 100 =  100 + 5050\n",
      "5050\n"
     ]
    }
   ],
   "source": [
    "d=0\n",
    "\n",
    "for x in range(101):\n",
    "     d=x+d\n",
    "     print(\"y\",x,\"= \",str(x),\"+\",str(d))\n",
    "print(d)"
   ]
  },
  {
   "cell_type": "code",
   "execution_count": 7,
   "id": "fad6d7b4",
   "metadata": {},
   "outputs": [
    {
     "name": "stdout",
     "output_type": "stream",
     "text": [
      "y 0 =  0 + 0\n",
      "y 1 =  1 + 1\n",
      "y 2 =  2 + 3\n",
      "y 3 =  3 + 6\n",
      "y 4 =  4 + 10\n",
      "y 5 =  5 + 15\n",
      "y 6 =  6 + 21\n",
      "21\n"
     ]
    }
   ],
   "source": [
    "d=0\n",
    "\n",
    "for x in range(c+1):\n",
    "     d=x+d\n",
    "     print(\"y\",x,\"= \",str(x),\"+\",str(d))\n",
    "print(d)"
   ]
  },
  {
   "cell_type": "markdown",
   "id": "39024da2",
   "metadata": {},
   "source": [
    "Nota: esto intentando ejecutar el proyect1"
   ]
  },
  {
   "cell_type": "code",
   "execution_count": 8,
   "id": "744e9b65",
   "metadata": {},
   "outputs": [
    {
     "name": "stdout",
     "output_type": "stream",
     "text": [
      "\u001b[0m\u001b[01;35moutput.png\u001b[0m  Presentacion-Cálculo.ipynb  PresentacionCálculo.ipynb  \u001b[01;32mproject1\u001b[0m*\r\n"
     ]
    }
   ],
   "source": [
    "ls"
   ]
  },
  {
   "cell_type": "markdown",
   "id": "848d9422",
   "metadata": {},
   "source": [
    "## Se puede dar intrucciones en el bas de Linux y visualizar resultados en jupyter Notebook  ##"
   ]
  },
  {
   "cell_type": "code",
   "execution_count": 14,
   "id": "8dc9ff1b",
   "metadata": {},
   "outputs": [
    {
     "name": "stdout",
     "output_type": "stream",
     "text": [
      "0\n",
      "1\n",
      "2\n",
      "3\n",
      "4\n",
      "5\n",
      "6\n",
      "7\n",
      "8\n",
      "9\n",
      "10\n"
     ]
    }
   ],
   "source": [
    "%%bash\n",
    "for ((I=0; I<=10; I++)); do\n",
    "    printf \"$I\\n\"\n",
    "done"
   ]
  },
  {
   "cell_type": "markdown",
   "id": "2431a0ec",
   "metadata": {},
   "source": [
    "## Implementar con arreglos el problema de Gauss##\n",
    "<pre>\n",
    "faltá mas interactividad en el programa y hacerlo con arreglos.\n",
    "</pre>"
   ]
  },
  {
   "cell_type": "code",
   "execution_count": 75,
   "id": "248cdfb8",
   "metadata": {},
   "outputs": [
    {
     "ename": "IndentationError",
     "evalue": "unexpected indent (2041635412.py, line 2)",
     "output_type": "error",
     "traceback": [
      "\u001b[0;36m  Cell \u001b[0;32mIn[75], line 2\u001b[0;36m\u001b[0m\n\u001b[0;31m    from numpy import zeros, unos,eye\u001b[0m\n\u001b[0m    ^\u001b[0m\n\u001b[0;31mIndentationError\u001b[0m\u001b[0;31m:\u001b[0m unexpected indent\n"
     ]
    }
   ],
   "source": [
    "import numpy as np\n",
    "# from numpy import zeros, unos,eye\n",
    "'''import pandas as pd'''\n",
    "d=0\n",
    "c=int(input(\"Dime un número\"))\n",
    "'''Esto es un comentario multilineas\n",
    "\n",
    "\n",
    "todo eso tambien es comentario en python\n",
    "\n",
    "\n",
    "\n",
    "  x1 = np.array([1,2,3])\n",
    "  \n",
    "       for e in range(c+1):\n",
    "        e = e+d         \n",
    "        print(\"y\",e,\"= \",str(e),\"+\",str(d))\n",
    "    \n",
    "\n",
    "''' \n",
    "  \n",
    "x = np.array([1,2,3])\n",
    "w = np.array([7,4,1])\n",
    "g= x*w\n",
    "print(str(w*x))\n",
    "\n",
    "print(str(g), \"x\",str(x))\n",
    "\n",
    "\n",
    "\n",
    "    \n",
    "  #  print(d)\n",
    "    \n",
    "    "
   ]
  },
  {
   "cell_type": "code",
   "execution_count": 76,
   "id": "9acecd66",
   "metadata": {},
   "outputs": [
    {
     "data": {
      "image/png": "[encoded data removed]",
      "text/plain": [
       "<Figure size 640x480 with 1 Axes>"
      ]
     },
     "metadata": {},
     "output_type": "display_data"
    }
   ],
   "source": [
    "from pylab import*\n",
    "t = arange(0.0, 2.0*pi+0.1, 0.1)\n",
    "plot(t,3*t,'g-+')\n",
    "xlabel(\"abscisas\")\n",
    "ylabel(\"ordenadas\")\n",
    "title('Graficas')\n",
    "grid()"
   ]
  },
  {
   "cell_type": "markdown",
   "id": "dbb51ccb",
   "metadata": {},
   "source": [
    "##  Mitzayé(2021). Introduccion al computo cientifico con python. Mexico:UNAM. ##\n",
    "pag119 Nota: importante de pylab"
   ]
  },
  {
   "cell_type": "markdown",
   "id": "e90f51bf",
   "metadata": {},
   "source": [
    "## Varias graficas en una sola ##\n",
    "<b>from python import *</b>\n",
    "<pre>\n",
    "from pylab import*\n",
    "t = arange(0.0, 2.0*pi+0.1, 0.1)\n",
    "plot(t,3*t,'g-+')\n",
    "xlabel(\"abscisas\")\n",
    "ylabel(\"ordenadas\")\n",
    "title('Graficas')\n",
    "\n",
    "</pre>\n",
    "\n",
    "<a href=\"Numpy_Python_Cheat_Sheet.pdf\">Haz clic aquí para el PDF</a>\n",
    "\n",
    "<iframe width=\"560\" height=\"315\"\n",
    "src=\"https://www.youtube.com/embed/#### Acá el identificador ######\"\n",
    "frameborder=\"0\" allow=\"accelerometer; autoplay; clipboard-write; encrypted-media; gyroscope; picture-in-picture\" allowfullscreen>\n",
    "</iframe>\n",
    "\n",
    "<embed src=\"DCalculo.pdf\" type=\"application/pdf\"/>\n",
    "\n",
    "\n",
    "![alt text](output.png \"Logo Title Text 2\")\n",
    "<br>\n",
    "![alt text](DCalculo.pdf \"Logo Title Text 3\")\n",
    "\n",
    "\n",
    "<object data=\"DCalculo.pdf.pdf\" type=\"application/pdf\" width=\"700px\" height=\"700px\">\n",
    "    <embed src=\"DCalculo.pdf.pdf\">\n",
    "        <p>This browser does not support PDFs. Please download the PDF to view it: <a href=\"DCalculo.pdf\">Download PDF</a>.</p>\n",
    "    </embed>\n",
    "</object>"
   ]
  },
  {
   "cell_type": "code",
   "execution_count": 5,
   "id": "82a36ccd",
   "metadata": {},
   "outputs": [
    {
     "name": "stdout",
     "output_type": "stream",
     "text": [
      "Dime un valor numerico 100\n",
      "y 0 =  -1 + 0\n",
      "y 1 =  0 + 1\n",
      "y 2 =  1 + 3\n",
      "y 3 =  2 + 6\n",
      "y 4 =  3 + 10\n",
      "y 5 =  4 + 15\n",
      "y 6 =  5 + 21\n",
      "y 7 =  6 + 28\n",
      "y 8 =  7 + 36\n",
      "y 9 =  8 + 45\n",
      "y 10 =  9 + 55\n",
      "y 11 =  10 + 66\n",
      "y 12 =  11 + 78\n",
      "y 13 =  12 + 91\n",
      "y 14 =  13 + 105\n",
      "y 15 =  14 + 120\n",
      "y 16 =  15 + 136\n",
      "y 17 =  16 + 153\n",
      "y 18 =  17 + 171\n",
      "y 19 =  18 + 190\n",
      "y 20 =  19 + 210\n",
      "y 21 =  20 + 231\n",
      "y 22 =  21 + 253\n",
      "y 23 =  22 + 276\n",
      "y 24 =  23 + 300\n",
      "y 25 =  24 + 325\n",
      "y 26 =  25 + 351\n",
      "y 27 =  26 + 378\n",
      "y 28 =  27 + 406\n",
      "y 29 =  28 + 435\n",
      "y 30 =  29 + 465\n",
      "y 31 =  30 + 496\n",
      "y 32 =  31 + 528\n",
      "y 33 =  32 + 561\n",
      "y 34 =  33 + 595\n",
      "y 35 =  34 + 630\n",
      "y 36 =  35 + 666\n",
      "y 37 =  36 + 703\n",
      "y 38 =  37 + 741\n",
      "y 39 =  38 + 780\n",
      "y 40 =  39 + 820\n",
      "y 41 =  40 + 861\n",
      "y 42 =  41 + 903\n",
      "y 43 =  42 + 946\n",
      "y 44 =  43 + 990\n",
      "y 45 =  44 + 1035\n",
      "y 46 =  45 + 1081\n",
      "y 47 =  46 + 1128\n",
      "y 48 =  47 + 1176\n",
      "y 49 =  48 + 1225\n",
      "y 50 =  49 + 1275\n",
      "y 51 =  50 + 1326\n",
      "y 52 =  51 + 1378\n",
      "y 53 =  52 + 1431\n",
      "y 54 =  53 + 1485\n",
      "y 55 =  54 + 1540\n",
      "y 56 =  55 + 1596\n",
      "y 57 =  56 + 1653\n",
      "y 58 =  57 + 1711\n",
      "y 59 =  58 + 1770\n",
      "y 60 =  59 + 1830\n",
      "y 61 =  60 + 1891\n",
      "y 62 =  61 + 1953\n",
      "y 63 =  62 + 2016\n",
      "y 64 =  63 + 2080\n",
      "y 65 =  64 + 2145\n",
      "y 66 =  65 + 2211\n",
      "y 67 =  66 + 2278\n",
      "y 68 =  67 + 2346\n",
      "y 69 =  68 + 2415\n",
      "y 70 =  69 + 2485\n",
      "y 71 =  70 + 2556\n",
      "y 72 =  71 + 2628\n",
      "y 73 =  72 + 2701\n",
      "y 74 =  73 + 2775\n",
      "y 75 =  74 + 2850\n",
      "y 76 =  75 + 2926\n",
      "y 77 =  76 + 3003\n",
      "y 78 =  77 + 3081\n",
      "y 79 =  78 + 3160\n",
      "y 80 =  79 + 3240\n",
      "y 81 =  80 + 3321\n",
      "y 82 =  81 + 3403\n",
      "y 83 =  82 + 3486\n",
      "y 84 =  83 + 3570\n",
      "y 85 =  84 + 3655\n",
      "y 86 =  85 + 3741\n",
      "y 87 =  86 + 3828\n",
      "y 88 =  87 + 3916\n",
      "y 89 =  88 + 4005\n",
      "y 90 =  89 + 4095\n",
      "y 91 =  90 + 4186\n",
      "y 92 =  91 + 4278\n",
      "y 93 =  92 + 4371\n",
      "y 94 =  93 + 4465\n",
      "y 95 =  94 + 4560\n",
      "y 96 =  95 + 4656\n",
      "y 97 =  96 + 4753\n",
      "y 98 =  97 + 4851\n",
      "y 99 =  98 + 4950\n",
      "y 100 =  99 + 5050\n",
      "la sumatoria completa es: 5050\n"
     ]
    }
   ],
   "source": [
    "d=0\n",
    " \n",
    "try:\n",
    "   \n",
    "    t=int(input(\"Dime un valor numerico \"))\n",
    "\n",
    "    for x in range(t+1):\n",
    "     d=x+d\n",
    "     print(\"y\",x,\"= \",str(x-1),\"+\",str(d))\n",
    "     \n",
    "    # print(\"y\",x,\"=\",x,\"+\"str(d))\n",
    "except: print(\"Oops!  El número no es valido\")\n",
    "    \n",
    "\n",
    "print(\"la sumatoria completa es:\",str(d))\n"
   ]
  },
  {
   "cell_type": "code",
   "execution_count": 32,
   "id": "971f7439",
   "metadata": {},
   "outputs": [
    {
     "name": "stdout",
     "output_type": "stream",
     "text": [
      "numero potencias: 3533694129556768659166595001485837031654967793751237916243212402585239552.000000\n"
     ]
    }
   ],
   "source": [
    "print(\"numero potencias: %f\"%(2**241))"
   ]
  },
  {
   "cell_type": "code",
   "execution_count": 29,
   "id": "eea1dd65",
   "metadata": {},
   "outputs": [],
   "source": [
    "list=(range(t))"
   ]
  },
  {
   "cell_type": "code",
   "execution_count": 30,
   "id": "3a125a23",
   "metadata": {},
   "outputs": [
    {
     "data": {
      "text/plain": [
       "range(0, 100)"
      ]
     },
     "execution_count": 30,
     "metadata": {},
     "output_type": "execute_result"
    }
   ],
   "source": [
    "list"
   ]
  },
  {
   "cell_type": "markdown",
   "id": "509967c4",
   "metadata": {},
   "source": [
    "<mimeMap fileExtension=\"Bibliotecaunam.webm\" mimeType=\"video/webm\" >No Funciona el video con webm</mimeMap>"
   ]
  },
  {
   "cell_type": "markdown",
   "id": "be05b91d",
   "metadata": {},
   "source": [
    "<video src=\"Operadores booleanos.mp4\" width=\"640\" height=\"640\" controls >No se puede visualizar </video>\n"
   ]
  },
  {
   "cell_type": "markdown",
   "id": "6c641bad",
   "metadata": {},
   "source": [
    "# Bibliografia Consultada: #\n",
    "<br>\n",
    "\n",
    "\n",
    "## Mitzayè(2021) Introduccion al computo cientifico con python. Mexico: UNAM ##"
   ]
  },
  {
   "cell_type": "markdown",
   "id": "75295568",
   "metadata": {},
   "source": [
    "<mimeMap fileExtension=\"Operadores booleanos.mp4\" mimeType=\"video/webm\" controls>No funciona video</mimeMap>"
   ]
  },
  {
   "cell_type": "markdown",
   "id": "48bcf7ba",
   "metadata": {},
   "source": [
    "<html>\n",
    "<head></head>\n",
    "<body>\n",
    "<!--<video width=\"320\" height=\"240\" controls>-->\n",
    "<video src=\"Operadores booleanos.mp4\" type=\"video/mp4\" width=\"640\" height=\"640\" controls>\n",
    " <!--< video source  src=\"Operadores booleanos.mp4\" type=\"video/mp4\" width=\"640\" height=\"640\" controls>--> \n",
    "Your browser does not support the video tag.\n",
    "</video> \n",
    "</body>\n",
    "</html>"
   ]
  },
  {
   "cell_type": "markdown",
   "id": "a4829ad4",
   "metadata": {},
   "source": [
    "<html>\n",
    "<head></head>\n",
    "<body>\n",
    "<!--<video width=\"320\" height=\"240\" controls>-->\n",
    "< video source src=\"Bibliotecaunam.webm\" type=\"video/webm\" width=\"640\" height=\"640\" controls>\n",
    "\n",
    "Your browser does not support the video tag.\n",
    "</video> \n",
    "</body>\n",
    "</html>"
   ]
  },
  {
   "cell_type": "code",
   "execution_count": 19,
   "id": "8204b0b0",
   "metadata": {},
   "outputs": [
    {
     "name": "stdout",
     "output_type": "stream",
     "text": [
      "Dime un valor numerico 100\n",
      "y 0 = -1 + 0 = 0\n",
      "y 1 = 0 + 1 = 1\n",
      "y 2 = 2 + 2 = 3\n",
      "y 3 = 5 + 3 = 6\n",
      "y 4 = 9 + 4 = 10\n",
      "y 5 = 14 + 5 = 15\n",
      "y 6 = 20 + 6 = 21\n",
      "y 7 = 27 + 7 = 28\n",
      "y 8 = 35 + 8 = 36\n",
      "y 9 = 44 + 9 = 45\n",
      "y 10 = 54 + 10 = 55\n",
      "y 11 = 65 + 11 = 66\n",
      "y 12 = 77 + 12 = 78\n",
      "y 13 = 90 + 13 = 91\n",
      "y 14 = 104 + 14 = 105\n",
      "y 15 = 119 + 15 = 120\n",
      "y 16 = 135 + 16 = 136\n",
      "y 17 = 152 + 17 = 153\n",
      "y 18 = 170 + 18 = 171\n",
      "y 19 = 189 + 19 = 190\n",
      "y 20 = 209 + 20 = 210\n",
      "y 21 = 230 + 21 = 231\n",
      "y 22 = 252 + 22 = 253\n",
      "y 23 = 275 + 23 = 276\n",
      "y 24 = 299 + 24 = 300\n",
      "y 25 = 324 + 25 = 325\n",
      "y 26 = 350 + 26 = 351\n",
      "y 27 = 377 + 27 = 378\n",
      "y 28 = 405 + 28 = 406\n",
      "y 29 = 434 + 29 = 435\n",
      "y 30 = 464 + 30 = 465\n",
      "y 31 = 495 + 31 = 496\n",
      "y 32 = 527 + 32 = 528\n",
      "y 33 = 560 + 33 = 561\n",
      "y 34 = 594 + 34 = 595\n",
      "y 35 = 629 + 35 = 630\n",
      "y 36 = 665 + 36 = 666\n",
      "y 37 = 702 + 37 = 703\n",
      "y 38 = 740 + 38 = 741\n",
      "y 39 = 779 + 39 = 780\n",
      "y 40 = 819 + 40 = 820\n",
      "y 41 = 860 + 41 = 861\n",
      "y 42 = 902 + 42 = 903\n",
      "y 43 = 945 + 43 = 946\n",
      "y 44 = 989 + 44 = 990\n",
      "y 45 = 1034 + 45 = 1035\n",
      "y 46 = 1080 + 46 = 1081\n",
      "y 47 = 1127 + 47 = 1128\n",
      "y 48 = 1175 + 48 = 1176\n",
      "y 49 = 1224 + 49 = 1225\n",
      "y 50 = 1274 + 50 = 1275\n",
      "y 51 = 1325 + 51 = 1326\n",
      "y 52 = 1377 + 52 = 1378\n",
      "y 53 = 1430 + 53 = 1431\n",
      "y 54 = 1484 + 54 = 1485\n",
      "y 55 = 1539 + 55 = 1540\n",
      "y 56 = 1595 + 56 = 1596\n",
      "y 57 = 1652 + 57 = 1653\n",
      "y 58 = 1710 + 58 = 1711\n",
      "y 59 = 1769 + 59 = 1770\n",
      "y 60 = 1829 + 60 = 1830\n",
      "y 61 = 1890 + 61 = 1891\n",
      "y 62 = 1952 + 62 = 1953\n",
      "y 63 = 2015 + 63 = 2016\n",
      "y 64 = 2079 + 64 = 2080\n",
      "y 65 = 2144 + 65 = 2145\n",
      "y 66 = 2210 + 66 = 2211\n",
      "y 67 = 2277 + 67 = 2278\n",
      "y 68 = 2345 + 68 = 2346\n",
      "y 69 = 2414 + 69 = 2415\n",
      "y 70 = 2484 + 70 = 2485\n",
      "y 71 = 2555 + 71 = 2556\n",
      "y 72 = 2627 + 72 = 2628\n",
      "y 73 = 2700 + 73 = 2701\n",
      "y 74 = 2774 + 74 = 2775\n",
      "y 75 = 2849 + 75 = 2850\n",
      "y 76 = 2925 + 76 = 2926\n",
      "y 77 = 3002 + 77 = 3003\n",
      "y 78 = 3080 + 78 = 3081\n",
      "y 79 = 3159 + 79 = 3160\n",
      "y 80 = 3239 + 80 = 3240\n",
      "y 81 = 3320 + 81 = 3321\n",
      "y 82 = 3402 + 82 = 3403\n",
      "y 83 = 3485 + 83 = 3486\n",
      "y 84 = 3569 + 84 = 3570\n",
      "y 85 = 3654 + 85 = 3655\n",
      "y 86 = 3740 + 86 = 3741\n",
      "y 87 = 3827 + 87 = 3828\n",
      "y 88 = 3915 + 88 = 3916\n",
      "y 89 = 4004 + 89 = 4005\n",
      "y 90 = 4094 + 90 = 4095\n",
      "y 91 = 4185 + 91 = 4186\n",
      "y 92 = 4277 + 92 = 4278\n",
      "y 93 = 4370 + 93 = 4371\n",
      "y 94 = 4464 + 94 = 4465\n",
      "y 95 = 4559 + 95 = 4560\n",
      "y 96 = 4655 + 96 = 4656\n",
      "y 97 = 4752 + 97 = 4753\n",
      "y 98 = 4850 + 98 = 4851\n",
      "y 99 = 4949 + 99 = 4950\n",
      "y 100 = 5049 + 100 = 5050\n",
      "la sumatoria completa es: 5050\n"
     ]
    }
   ],
   "source": [
    "d=0\n",
    " \n",
    "try:\n",
    "   \n",
    "    t=int(input(\"Dime un valor numerico \"))\n",
    "\n",
    "    for x in range(t+1):\n",
    "     d=x+d\n",
    "     #print(\"y\",x,\"= \",str(x-1),\"+\",str(d))\n",
    "      \n",
    "     print(\"y\",x,\"=\",str(d-1),\"+\",x,\"=\",str(d))\n",
    "except: print(\"Oops!  El número no es valido\")\n",
    "    \n",
    "\n",
    "print(\"la sumatoria completa es:\",str(d))"
   ]
  },
  {
   "cell_type": "code",
   "execution_count": 22,
   "id": "74fa2a70",
   "metadata": {},
   "outputs": [
    {
     "name": "stdout",
     "output_type": "stream",
     "text": [
      "Da la propiedad \t1\n"
     ]
    }
   ],
   "source": [
    "from numpy import *\n",
    "\n",
    "N=float(input(\"Da la propiedad \\t\"))\n",
    "A=zeros([3,3])\n",
    "\n",
    "\n"
   ]
  },
  {
   "cell_type": "code",
   "execution_count": 23,
   "id": "0626cd04",
   "metadata": {},
   "outputs": [
    {
     "data": {
      "text/plain": [
       "array([[0., 0., 0.],\n",
       "       [0., 0., 0.],\n",
       "       [0., 0., 0.]])"
      ]
     },
     "execution_count": 23,
     "metadata": {},
     "output_type": "execute_result"
    }
   ],
   "source": [
    "A"
   ]
  },
  {
   "cell_type": "code",
   "execution_count": 27,
   "id": "3a599869",
   "metadata": {},
   "outputs": [
    {
     "ename": "TypeError",
     "evalue": "'type' object is not subscriptable",
     "output_type": "error",
     "traceback": [
      "\u001b[0;31m---------------------------------------------------------------------------\u001b[0m",
      "\u001b[0;31mTypeError\u001b[0m                                 Traceback (most recent call last)",
      "Cell \u001b[0;32mIn[27], line 1\u001b[0m\n\u001b[0;32m----> 1\u001b[0m B\u001b[38;5;241m=\u001b[39mzeros(\u001b[38;5;28;43mint\u001b[39;49m\u001b[43m[\u001b[49m\u001b[38;5;241;43m3\u001b[39;49m\u001b[43m,\u001b[49m\u001b[38;5;241;43m3\u001b[39;49m\u001b[43m]\u001b[49m)\n",
      "\u001b[0;31mTypeError\u001b[0m: 'type' object is not subscriptable"
     ]
    }
   ],
   "source": [
    "B=zeros(int[3,3])"
   ]
  },
  {
   "cell_type": "code",
   "execution_count": 25,
   "id": "d91038d9",
   "metadata": {},
   "outputs": [
    {
     "data": {
      "text/plain": [
       "array([[0., 0., 0.],\n",
       "       [0., 0., 0.],\n",
       "       [0., 0., 0.]])"
      ]
     },
     "execution_count": 25,
     "metadata": {},
     "output_type": "execute_result"
    }
   ],
   "source": [
    "B"
   ]
  },
  {
   "cell_type": "code",
   "execution_count": 30,
   "id": "64c3c509",
   "metadata": {},
   "outputs": [
    {
     "name": "stdout",
     "output_type": "stream",
     "text": [
      "Dime un valor numerico 9\n",
      "Dime un valor numerico 1\n",
      "Dime un valor numerico 2\n",
      "Dime un valor numerico 3\n",
      "Dime un valor numerico 4\n",
      "Oops!  El número no es valido\n"
     ]
    }
   ],
   "source": [
    " t=int(input(\"Dime un valor numerico \"))\n",
    "try:\n",
    "    for x in range(t+1):\n",
    "        A[x]= int(input(\"Dime un valor numerico \"))\n",
    "        \n",
    "   \n",
    "except: print(\"Oops!  El número no es valido\")"
   ]
  },
  {
   "cell_type": "code",
   "execution_count": 31,
   "id": "31764e84",
   "metadata": {},
   "outputs": [
    {
     "data": {
      "text/plain": [
       "array([[1., 1., 1.],\n",
       "       [2., 2., 2.],\n",
       "       [3., 3., 3.]])"
      ]
     },
     "execution_count": 31,
     "metadata": {},
     "output_type": "execute_result"
    }
   ],
   "source": [
    "A"
   ]
  },
  {
   "cell_type": "code",
   "execution_count": 32,
   "id": "cf9d3869",
   "metadata": {},
   "outputs": [],
   "source": [
    "Numeros=range(1,10,1)"
   ]
  },
  {
   "cell_type": "code",
   "execution_count": 33,
   "id": "cb8c027b",
   "metadata": {},
   "outputs": [
    {
     "data": {
      "text/plain": [
       "range(1, 10)"
      ]
     },
     "execution_count": 33,
     "metadata": {},
     "output_type": "execute_result"
    }
   ],
   "source": [
    "Numeros\n"
   ]
  },
  {
   "cell_type": "code",
   "execution_count": 34,
   "id": "02db49a1",
   "metadata": {},
   "outputs": [
    {
     "data": {
      "text/plain": [
       "[1, 2, 3, 4, 5, 6, 7, 8, 9]"
      ]
     },
     "execution_count": 34,
     "metadata": {},
     "output_type": "execute_result"
    }
   ],
   "source": [
    "list(Numeros)"
   ]
  },
  {
   "cell_type": "code",
   "execution_count": 3,
   "id": "6c58191c",
   "metadata": {},
   "outputs": [
    {
     "name": "stdout",
     "output_type": "stream",
     "text": [
      "Dime un valor numerico 10\n"
     ]
    }
   ],
   "source": [
    "t=int(input(\"Dime un valor numerico \"))\n",
    "try:\n",
    "    Numeros2=range(1,t,2)\n",
    "        \n",
    "   \n",
    "except: print(\"Oops!  El número no es valido\")"
   ]
  },
  {
   "cell_type": "code",
   "execution_count": 36,
   "id": "923613b4",
   "metadata": {},
   "outputs": [
    {
     "data": {
      "text/plain": [
       "[1,\n",
       " 3,\n",
       " 5,\n",
       " 7,\n",
       " 9,\n",
       " 11,\n",
       " 13,\n",
       " 15,\n",
       " 17,\n",
       " 19,\n",
       " 21,\n",
       " 23,\n",
       " 25,\n",
       " 27,\n",
       " 29,\n",
       " 31,\n",
       " 33,\n",
       " 35,\n",
       " 37,\n",
       " 39,\n",
       " 41,\n",
       " 43,\n",
       " 45,\n",
       " 47,\n",
       " 49,\n",
       " 51,\n",
       " 53,\n",
       " 55,\n",
       " 57,\n",
       " 59,\n",
       " 61,\n",
       " 63,\n",
       " 65,\n",
       " 67,\n",
       " 69,\n",
       " 71,\n",
       " 73,\n",
       " 75,\n",
       " 77,\n",
       " 79,\n",
       " 81,\n",
       " 83,\n",
       " 85,\n",
       " 87,\n",
       " 89,\n",
       " 91,\n",
       " 93,\n",
       " 95,\n",
       " 97,\n",
       " 99,\n",
       " 101,\n",
       " 103,\n",
       " 105,\n",
       " 107,\n",
       " 109,\n",
       " 111,\n",
       " 113,\n",
       " 115,\n",
       " 117,\n",
       " 119,\n",
       " 121,\n",
       " 123,\n",
       " 125,\n",
       " 127,\n",
       " 129,\n",
       " 131,\n",
       " 133,\n",
       " 135,\n",
       " 137,\n",
       " 139,\n",
       " 141,\n",
       " 143,\n",
       " 145,\n",
       " 147,\n",
       " 149,\n",
       " 151,\n",
       " 153,\n",
       " 155,\n",
       " 157,\n",
       " 159,\n",
       " 161,\n",
       " 163,\n",
       " 165,\n",
       " 167,\n",
       " 169,\n",
       " 171,\n",
       " 173,\n",
       " 175,\n",
       " 177,\n",
       " 179,\n",
       " 181,\n",
       " 183,\n",
       " 185,\n",
       " 187,\n",
       " 189,\n",
       " 191,\n",
       " 193,\n",
       " 195,\n",
       " 197,\n",
       " 199,\n",
       " 201,\n",
       " 203,\n",
       " 205,\n",
       " 207,\n",
       " 209,\n",
       " 211,\n",
       " 213,\n",
       " 215,\n",
       " 217,\n",
       " 219,\n",
       " 221,\n",
       " 223,\n",
       " 225,\n",
       " 227,\n",
       " 229,\n",
       " 231,\n",
       " 233,\n",
       " 235,\n",
       " 237,\n",
       " 239,\n",
       " 241,\n",
       " 243,\n",
       " 245,\n",
       " 247,\n",
       " 249,\n",
       " 251,\n",
       " 253,\n",
       " 255,\n",
       " 257,\n",
       " 259,\n",
       " 261,\n",
       " 263,\n",
       " 265,\n",
       " 267,\n",
       " 269,\n",
       " 271,\n",
       " 273,\n",
       " 275,\n",
       " 277,\n",
       " 279,\n",
       " 281,\n",
       " 283,\n",
       " 285,\n",
       " 287,\n",
       " 289,\n",
       " 291,\n",
       " 293,\n",
       " 295,\n",
       " 297,\n",
       " 299,\n",
       " 301,\n",
       " 303,\n",
       " 305,\n",
       " 307,\n",
       " 309,\n",
       " 311,\n",
       " 313,\n",
       " 315,\n",
       " 317,\n",
       " 319,\n",
       " 321,\n",
       " 323,\n",
       " 325,\n",
       " 327,\n",
       " 329,\n",
       " 331,\n",
       " 333,\n",
       " 335,\n",
       " 337,\n",
       " 339,\n",
       " 341,\n",
       " 343,\n",
       " 345,\n",
       " 347,\n",
       " 349,\n",
       " 351,\n",
       " 353,\n",
       " 355,\n",
       " 357,\n",
       " 359,\n",
       " 361,\n",
       " 363,\n",
       " 365,\n",
       " 367,\n",
       " 369,\n",
       " 371,\n",
       " 373,\n",
       " 375,\n",
       " 377,\n",
       " 379,\n",
       " 381,\n",
       " 383,\n",
       " 385,\n",
       " 387,\n",
       " 389,\n",
       " 391,\n",
       " 393,\n",
       " 395,\n",
       " 397,\n",
       " 399,\n",
       " 401,\n",
       " 403,\n",
       " 405,\n",
       " 407,\n",
       " 409,\n",
       " 411,\n",
       " 413,\n",
       " 415,\n",
       " 417,\n",
       " 419,\n",
       " 421,\n",
       " 423,\n",
       " 425,\n",
       " 427,\n",
       " 429,\n",
       " 431,\n",
       " 433,\n",
       " 435,\n",
       " 437,\n",
       " 439,\n",
       " 441,\n",
       " 443,\n",
       " 445,\n",
       " 447,\n",
       " 449,\n",
       " 451,\n",
       " 453,\n",
       " 455,\n",
       " 457,\n",
       " 459,\n",
       " 461,\n",
       " 463,\n",
       " 465,\n",
       " 467,\n",
       " 469,\n",
       " 471,\n",
       " 473,\n",
       " 475,\n",
       " 477,\n",
       " 479,\n",
       " 481,\n",
       " 483,\n",
       " 485,\n",
       " 487,\n",
       " 489,\n",
       " 491,\n",
       " 493,\n",
       " 495,\n",
       " 497,\n",
       " 499]"
      ]
     },
     "execution_count": 36,
     "metadata": {},
     "output_type": "execute_result"
    }
   ],
   "source": [
    "list(Numeros2)"
   ]
  },
  {
   "cell_type": "code",
   "execution_count": 1,
   "id": "670e79a5",
   "metadata": {},
   "outputs": [
    {
     "name": "stdout",
     "output_type": "stream",
     "text": [
      "Dime un valor numerico 5\n"
     ]
    }
   ],
   "source": [
    "t=int(input(\"Dime un valor numerico \"))\n",
    "Numeros2=range(1,t,2)"
   ]
  },
  {
   "cell_type": "raw",
   "id": "0f51f728",
   "metadata": {},
   "source": [
    "Numeros2"
   ]
  },
  {
   "cell_type": "code",
   "execution_count": 5,
   "id": "23261758",
   "metadata": {},
   "outputs": [
    {
     "data": {
      "text/plain": [
       "[1, 3, 5, 7, 9]"
      ]
     },
     "execution_count": 5,
     "metadata": {},
     "output_type": "execute_result"
    }
   ],
   "source": [
    "list(Numeros2)"
   ]
  },
  {
   "cell_type": "code",
   "execution_count": 8,
   "id": "f15507b1",
   "metadata": {},
   "outputs": [
    {
     "name": "stdout",
     "output_type": "stream",
     "text": [
      "Menu\n",
      "Opcion 1 : Quieres seguir intentado\n",
      "Opcion 2: \n",
      "Opcion 3: salir\n",
      "Escribe la opcion que gustes, para finalizar usa 0\t1\n",
      "Quieres volver a intertar el adivinar\n",
      "Escribe la opcion que gustes, para finalizar usa 0\t2\n",
      "Quieres ver la Grafica\n",
      "Escribe la opcion que gustes, para finalizar usa 0\t3\n",
      "Adios\n"
     ]
    }
   ],
   "source": [
    "print(\"Menu\")\n",
    "print(\"Opcion 1 : Quieres seguir intentado\")\n",
    "print(\"Opcion 2: \")\n",
    "print(\"Opcion 3: salir\")\n",
    "while True:\n",
    "    opcion= int(input(\"Escribe la opcion que gustes, para finalizar usa 0\\t\"))\n",
    "    if opcion == 1:\n",
    "        print(\"Quieres volver a intertar el adivinar\")\n",
    "    elif opcion == 2:\n",
    "        print(\"Quieres ver la Grafica\")\n",
    "    elif opcion == 3:\n",
    "        print(\"Adios\")\n",
    "        break\n",
    "    else:\n",
    "        print(\"da un opcion valida\")"
   ]
  },
  {
   "cell_type": "code",
   "execution_count": 15,
   "id": "7d464112",
   "metadata": {},
   "outputs": [],
   "source": [
    "from random import *\n",
    "\n",
    "#t=int(input(\"Dime un valor numerico \"))\n",
    "try:\n",
    "    Numeros3=range(1,10,1)\n",
    "        \n",
    "    Numeros3\n",
    "except: print(\"Oops!  El número no es valido\")\n",
    "  "
   ]
  },
  {
   "cell_type": "code",
   "execution_count": 13,
   "id": "3cc82fbd",
   "metadata": {},
   "outputs": [
    {
     "data": {
      "text/plain": [
       "[1]"
      ]
     },
     "execution_count": 13,
     "metadata": {},
     "output_type": "execute_result"
    }
   ],
   "source": [
    "list(Numeros3)"
   ]
  },
  {
   "cell_type": "code",
   "execution_count": 25,
   "id": "4447fa8a",
   "metadata": {},
   "outputs": [
    {
     "ename": "TypeError",
     "evalue": "'int' object is not iterable",
     "output_type": "error",
     "traceback": [
      "\u001b[0;31m---------------------------------------------------------------------------\u001b[0m",
      "\u001b[0;31mTypeError\u001b[0m                                 Traceback (most recent call last)",
      "Cell \u001b[0;32mIn[25], line 5\u001b[0m\n\u001b[1;32m      3\u001b[0m \u001b[38;5;28;01mfor\u001b[39;00m i \u001b[38;5;129;01min\u001b[39;00m \u001b[38;5;28mrange\u001b[39m(\u001b[38;5;241m10\u001b[39m):\n\u001b[1;32m      4\u001b[0m     Numeros3\u001b[38;5;241m=\u001b[39mrandint(\u001b[38;5;241m0\u001b[39m,\u001b[38;5;241m9\u001b[39m)  \u001b[38;5;66;03m#list.append(randint(0,9))\u001b[39;00m\n\u001b[0;32m----> 5\u001b[0m     \u001b[38;5;28mprint\u001b[39m(\u001b[38;5;28;43mlist\u001b[39;49m\u001b[43m(\u001b[49m\u001b[43mNumeros3\u001b[49m\u001b[43m)\u001b[49m)\n",
      "\u001b[0;31mTypeError\u001b[0m: 'int' object is not iterable"
     ]
    }
   ],
   "source": [
    "from random import *\n",
    "#Numeros3 =list(range(1,10,1))\n",
    "for i in range(10):\n",
    "    Numeros3=randint(0,9)  #list.append(randint(0,9))\n",
    "    "
   ]
  },
  {
   "cell_type": "code",
   "execution_count": 27,
   "id": "40195ee8",
   "metadata": {},
   "outputs": [
    {
     "data": {
      "text/plain": [
       "6"
      ]
     },
     "execution_count": 27,
     "metadata": {},
     "output_type": "execute_result"
    }
   ],
   "source": [
    "Numeros3"
   ]
  },
  {
   "cell_type": "code",
   "execution_count": 28,
   "id": "81023e20",
   "metadata": {},
   "outputs": [],
   "source": [
    "Numero4=[]\n"
   ]
  },
  {
   "cell_type": "code",
   "execution_count": 33,
   "id": "24123cc5",
   "metadata": {},
   "outputs": [],
   "source": [
    "for i in range(1,10):\n",
    "    Numero4.append([i]*randint(0,9))"
   ]
  },
  {
   "cell_type": "code",
   "execution_count": 34,
   "id": "6b3d58b4",
   "metadata": {},
   "outputs": [
    {
     "data": {
      "text/plain": [
       "[1,\n",
       " 2,\n",
       " 3,\n",
       " 4,\n",
       " 5,\n",
       " 6,\n",
       " 7,\n",
       " 8,\n",
       " 9,\n",
       " 8,\n",
       " 4,\n",
       " 0,\n",
       " 4,\n",
       " 3,\n",
       " 2,\n",
       " 7,\n",
       " 8,\n",
       " 2,\n",
       " 1,\n",
       " 0,\n",
       " 6,\n",
       " 0,\n",
       " 15,\n",
       " 42,\n",
       " 7,\n",
       " 32,\n",
       " 0]"
      ]
     },
     "execution_count": 34,
     "metadata": {},
     "output_type": "execute_result"
    }
   ],
   "source": [
    "list(Numero4)"
   ]
  },
  {
   "cell_type": "code",
   "execution_count": 39,
   "id": "d8e9448f",
   "metadata": {},
   "outputs": [],
   "source": [
    "list.clear(Numero4)"
   ]
  },
  {
   "cell_type": "code",
   "execution_count": 36,
   "id": "14d3b6f8",
   "metadata": {},
   "outputs": [
    {
     "data": {
      "text/plain": [
       "[]"
      ]
     },
     "execution_count": 36,
     "metadata": {},
     "output_type": "execute_result"
    }
   ],
   "source": [
    "list(Numero4)"
   ]
  },
  {
   "cell_type": "code",
   "execution_count": 37,
   "id": "59ba399c",
   "metadata": {},
   "outputs": [],
   "source": [
    "for i in range(1,10):\n",
    "    Numero4.append([i]*randint(0,9))"
   ]
  },
  {
   "cell_type": "code",
   "execution_count": 38,
   "id": "c405d13d",
   "metadata": {},
   "outputs": [
    {
     "data": {
      "text/plain": [
       "[[1, 1, 1, 1, 1, 1, 1, 1],\n",
       " [2, 2, 2, 2, 2, 2],\n",
       " [3, 3, 3, 3, 3, 3, 3, 3, 3],\n",
       " [4, 4, 4],\n",
       " [5, 5, 5, 5, 5, 5, 5],\n",
       " [6, 6, 6, 6],\n",
       " [7, 7, 7, 7],\n",
       " [],\n",
       " []]"
      ]
     },
     "execution_count": 38,
     "metadata": {},
     "output_type": "execute_result"
    }
   ],
   "source": [
    "list(Numero4)"
   ]
  },
  {
   "cell_type": "code",
   "execution_count": 40,
   "id": "47a7f392",
   "metadata": {},
   "outputs": [],
   "source": [
    "for i in range(1,10):\n",
    "    Numero4.append(randint(0,9))"
   ]
  },
  {
   "cell_type": "code",
   "execution_count": 41,
   "id": "b79bd5e8",
   "metadata": {},
   "outputs": [
    {
     "data": {
      "text/plain": [
       "[3, 4, 2, 0, 0, 5, 3, 5, 6]"
      ]
     },
     "execution_count": 41,
     "metadata": {},
     "output_type": "execute_result"
    }
   ],
   "source": [
    "list(Numero4)"
   ]
  },
  {
   "cell_type": "code",
   "execution_count": 54,
   "id": "da1e8827",
   "metadata": {},
   "outputs": [
    {
     "name": "stdout",
     "output_type": "stream",
     "text": [
      "1\n",
      "2\n",
      "3\n",
      "4\n",
      "5\n",
      "6\n",
      "7\n",
      "8\n",
      "9\n"
     ]
    }
   ],
   "source": [
    "Digito1=[]\n",
    "Digito2=[]\n",
    "Digito3=[]\n",
    "try:\n",
    "  for i in range(1,10):\n",
    "      Digito1.append(randint(0,9))\n",
    "      Digito2.append(randint(0,9))\n",
    "      Digito3.append(randint(0,9))\n",
    "      print(i)\n",
    "except: print(\"Oops!  El número no es valido\")"
   ]
  },
  {
   "cell_type": "code",
   "execution_count": null,
   "id": "33fd244e",
   "metadata": {},
   "outputs": [],
   "source": []
  }
 ],
 "metadata": {
  "kernelspec": {
   "display_name": "Python 3 (ipykernel)",
   "language": "python",
   "name": "python3"
  },
  "language_info": {
   "codemirror_mode": {
    "name": "ipython",
    "version": 3
   },
   "file_extension": ".py",
   "mimetype": "text/x-python",
   "name": "python",
   "nbconvert_exporter": "python",
   "pygments_lexer": "ipython3",
   "version": "3.10.9"
  }
 },
 "nbformat": 4,
 "nbformat_minor": 5
}
